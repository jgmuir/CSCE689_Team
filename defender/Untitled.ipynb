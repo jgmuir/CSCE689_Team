{
 "cells": [
  {
   "cell_type": "code",
   "execution_count": 1,
   "id": "9b403301",
   "metadata": {},
   "outputs": [],
   "source": [
    "import pefile\n",
    "from classifier import create_feature_vector, create_training_feature_vectors"
   ]
  },
  {
   "cell_type": "code",
   "execution_count": 2,
   "id": "7edaf27b",
   "metadata": {},
   "outputs": [
    {
     "name": "stderr",
     "output_type": "stream",
     "text": [
      "C:\\Users\\yukun\\CSCE689_Team\\defender\\classifier.py:623: FutureWarning: The frame.append method is deprecated and will be removed from pandas in a future version. Use pandas.concat instead.\n",
      "  feature_df = feature_df.append(features, ignore_index=True)\n"
     ]
    }
   ],
   "source": [
    "features = \"\"\n",
    "with open('pe-machine-learning-dataset/samples/1', 'rb') as file_obj:\n",
    "    features = create_feature_vector(file_obj)\n",
    "    "
   ]
  },
  {
   "cell_type": "code",
   "execution_count": 3,
   "id": "808bd449",
   "metadata": {},
   "outputs": [
    {
     "data": {
      "text/html": [
       "<div>\n",
       "<style scoped>\n",
       "    .dataframe tbody tr th:only-of-type {\n",
       "        vertical-align: middle;\n",
       "    }\n",
       "\n",
       "    .dataframe tbody tr th {\n",
       "        vertical-align: top;\n",
       "    }\n",
       "\n",
       "    .dataframe thead th {\n",
       "        text-align: right;\n",
       "    }\n",
       "</style>\n",
       "<table border=\"1\" class=\"dataframe\">\n",
       "  <thead>\n",
       "    <tr style=\"text-align: right;\">\n",
       "      <th></th>\n",
       "      <th>FILE_HEADER.MACHINE</th>\n",
       "      <th>FILE_HEADER.SIZEOFOPTIONALHEADER</th>\n",
       "      <th>FILE_HEADER.CHARACTERISTICS</th>\n",
       "      <th>OPTIONAL_HEADER.IMAGEBASE</th>\n",
       "      <th>OPTIONAL_HEADER.MAJOROPERATINGSYSTEM</th>\n",
       "      <th>OPTIONAL_HEADER.MAJORSUBSYSTEMVERSION</th>\n",
       "      <th>OPTIONAL_HEADER.DLLCHARACTERISTICS</th>\n",
       "      <th>OPTIONAL_HEADER.SUBSYSTEM</th>\n",
       "      <th>DATA_DIRECTORY.IMAGE_DIRECTORY_ENTRY_EXPORT</th>\n",
       "      <th>DATA_DIRECTORY.IMAGE_DIRECTORY_ENTRY_IMPORT</th>\n",
       "      <th>...</th>\n",
       "      <th>DATA_DIRECTORY.IMAGE_DIRECTORY_ENTRY_IAT</th>\n",
       "      <th>DATA_DIRECTORY.IMAGE_DIRECTORY_ENTRY_DELAY_IMPORT</th>\n",
       "      <th>DATA_DIRECTORY.IMAGE_DIRECTORY_ENTRY_COM_DESCRIPTOR</th>\n",
       "      <th>DATA_DIRECTORY.IMAGE_DIRECTORY_ENTRY_RESERVED</th>\n",
       "      <th>PE_SECTIONS.MAXENTROPY</th>\n",
       "      <th>PE_SECTIONS.MINENTROPY</th>\n",
       "      <th>PE_SECTIONS.MEANENTROPY</th>\n",
       "      <th>RESOURCES.MAXENTROPY</th>\n",
       "      <th>RESOURCES.MINENTROPY</th>\n",
       "      <th>VS_VERSIONINFO.Length</th>\n",
       "    </tr>\n",
       "  </thead>\n",
       "  <tbody>\n",
       "    <tr>\n",
       "      <th>0</th>\n",
       "      <td>332.0</td>\n",
       "      <td>224.0</td>\n",
       "      <td>258.0</td>\n",
       "      <td>65536.0</td>\n",
       "      <td>6.0</td>\n",
       "      <td>5.0</td>\n",
       "      <td>0.0</td>\n",
       "      <td>1.0</td>\n",
       "      <td>0.0</td>\n",
       "      <td>1.0</td>\n",
       "      <td>...</td>\n",
       "      <td>1.0</td>\n",
       "      <td>0.0</td>\n",
       "      <td>0.0</td>\n",
       "      <td>0.0</td>\n",
       "      <td>7.365709</td>\n",
       "      <td>1.509018</td>\n",
       "      <td>4.878979</td>\n",
       "      <td>3.391532</td>\n",
       "      <td>3.391532</td>\n",
       "      <td>908.0</td>\n",
       "    </tr>\n",
       "  </tbody>\n",
       "</table>\n",
       "<p>1 rows × 30 columns</p>\n",
       "</div>"
      ],
      "text/plain": [
       "   FILE_HEADER.MACHINE  FILE_HEADER.SIZEOFOPTIONALHEADER  \\\n",
       "0                332.0                             224.0   \n",
       "\n",
       "   FILE_HEADER.CHARACTERISTICS  OPTIONAL_HEADER.IMAGEBASE  \\\n",
       "0                        258.0                    65536.0   \n",
       "\n",
       "   OPTIONAL_HEADER.MAJOROPERATINGSYSTEM  \\\n",
       "0                                   6.0   \n",
       "\n",
       "   OPTIONAL_HEADER.MAJORSUBSYSTEMVERSION  OPTIONAL_HEADER.DLLCHARACTERISTICS  \\\n",
       "0                                    5.0                                 0.0   \n",
       "\n",
       "   OPTIONAL_HEADER.SUBSYSTEM  DATA_DIRECTORY.IMAGE_DIRECTORY_ENTRY_EXPORT  \\\n",
       "0                        1.0                                          0.0   \n",
       "\n",
       "   DATA_DIRECTORY.IMAGE_DIRECTORY_ENTRY_IMPORT  ...  \\\n",
       "0                                          1.0  ...   \n",
       "\n",
       "   DATA_DIRECTORY.IMAGE_DIRECTORY_ENTRY_IAT  \\\n",
       "0                                       1.0   \n",
       "\n",
       "   DATA_DIRECTORY.IMAGE_DIRECTORY_ENTRY_DELAY_IMPORT  \\\n",
       "0                                                0.0   \n",
       "\n",
       "   DATA_DIRECTORY.IMAGE_DIRECTORY_ENTRY_COM_DESCRIPTOR  \\\n",
       "0                                                0.0     \n",
       "\n",
       "   DATA_DIRECTORY.IMAGE_DIRECTORY_ENTRY_RESERVED  PE_SECTIONS.MAXENTROPY  \\\n",
       "0                                            0.0                7.365709   \n",
       "\n",
       "   PE_SECTIONS.MINENTROPY  PE_SECTIONS.MEANENTROPY  RESOURCES.MAXENTROPY  \\\n",
       "0                1.509018                 4.878979              3.391532   \n",
       "\n",
       "   RESOURCES.MINENTROPY  VS_VERSIONINFO.Length  \n",
       "0              3.391532                  908.0  \n",
       "\n",
       "[1 rows x 30 columns]"
      ]
     },
     "execution_count": 3,
     "metadata": {},
     "output_type": "execute_result"
    }
   ],
   "source": [
    "features"
   ]
  },
  {
   "cell_type": "code",
   "execution_count": 7,
   "id": "d35d1825",
   "metadata": {},
   "outputs": [
    {
     "name": "stdout",
     "output_type": "stream",
     "text": [
      "Processing sample pe-machine-learning-dataset/samples\\1\n",
      "Collecting header features for sample pe-machine-learning-dataset/samples\\1\n",
      "Gathering byte file for sample pe-machine-learning-dataset/samples\\1\n",
      "Gathering ASM file for sample pe-machine-learning-dataset/samples\\1\n",
      "Processing sample pe-machine-learning-dataset/samples\\2\n",
      "Collecting header features for sample pe-machine-learning-dataset/samples\\2\n",
      "Gathering byte file for sample pe-machine-learning-dataset/samples\\2\n",
      "Gathering ASM file for sample pe-machine-learning-dataset/samples\\2\n",
      "Processing sample pe-machine-learning-dataset/samples\\3\n",
      "Collecting header features for sample pe-machine-learning-dataset/samples\\3\n",
      "Gathering byte file for sample pe-machine-learning-dataset/samples\\3\n",
      "Gathering ASM file for sample pe-machine-learning-dataset/samples\\3\n",
      "Processing sample pe-machine-learning-dataset/samples\\4\n",
      "Collecting header features for sample pe-machine-learning-dataset/samples\\4\n",
      "Gathering byte file for sample pe-machine-learning-dataset/samples\\4\n",
      "Gathering ASM file for sample pe-machine-learning-dataset/samples\\4\n",
      "Creating byte-based feature matrix\n",
      "Collecting bi-gram byte features for sample pe-machine-learning-dataset/samples\\1\n",
      "Collecting bi-gram byte features for sample pe-machine-learning-dataset/samples\\2\n",
      "Collecting bi-gram byte features for sample pe-machine-learning-dataset/samples\\3\n",
      "Collecting bi-gram byte features for sample pe-machine-learning-dataset/samples\\4\n",
      "One-hot-encoding bi-gram byte features for sample pe-machine-learning-dataset/samples\\1\n",
      "One-hot-encoding bi-gram byte features for sample pe-machine-learning-dataset/samples\\2\n",
      "One-hot-encoding bi-gram byte features for sample pe-machine-learning-dataset/samples\\3\n",
      "One-hot-encoding bi-gram byte features for sample pe-machine-learning-dataset/samples\\4\n",
      "Selecting top 200 bi-gram byte features\n"
     ]
    },
    {
     "name": "stderr",
     "output_type": "stream",
     "text": [
      "C:\\Users\\yukun\\CSCE689_Team\\defender\\classifier.py:457: FutureWarning: The frame.append method is deprecated and will be removed from pandas in a future version. Use pandas.concat instead.\n",
      "  header_feature_df = header_feature_df.append(header_features, ignore_index=True)\n",
      "C:\\Users\\yukun\\CSCE689_Team\\defender\\classifier.py:457: FutureWarning: The frame.append method is deprecated and will be removed from pandas in a future version. Use pandas.concat instead.\n",
      "  header_feature_df = header_feature_df.append(header_features, ignore_index=True)\n",
      "C:\\Users\\yukun\\CSCE689_Team\\defender\\classifier.py:457: FutureWarning: The frame.append method is deprecated and will be removed from pandas in a future version. Use pandas.concat instead.\n",
      "  header_feature_df = header_feature_df.append(header_features, ignore_index=True)\n",
      "C:\\Users\\yukun\\CSCE689_Team\\defender\\classifier.py:457: FutureWarning: The frame.append method is deprecated and will be removed from pandas in a future version. Use pandas.concat instead.\n",
      "  header_feature_df = header_feature_df.append(header_features, ignore_index=True)\n"
     ]
    },
    {
     "ename": "AttributeError",
     "evalue": "'list' object has no attribute 'shape'",
     "output_type": "error",
     "traceback": [
      "\u001b[1;31m---------------------------------------------------------------------------\u001b[0m",
      "\u001b[1;31mAttributeError\u001b[0m                            Traceback (most recent call last)",
      "\u001b[1;32m~\\AppData\\Local\\Temp\\ipykernel_25760\\2887678207.py\u001b[0m in \u001b[0;36m<module>\u001b[1;34m\u001b[0m\n\u001b[1;32m----> 1\u001b[1;33m \u001b[0mfinal_feature_df\u001b[0m\u001b[1;33m,\u001b[0m \u001b[0mbyte_bi_gram_features\u001b[0m\u001b[1;33m.\u001b[0m\u001b[0mcolumns\u001b[0m\u001b[1;33m,\u001b[0m \u001b[0mopcode_bi_gram_features\u001b[0m\u001b[1;33m.\u001b[0m\u001b[0mcolumns\u001b[0m\u001b[1;33m,\u001b[0m \u001b[0mopcode_tri_gram_features\u001b[0m\u001b[1;33m.\u001b[0m\u001b[0mcolumns\u001b[0m \u001b[1;33m=\u001b[0m \u001b[0mcreate_training_feature_vectors\u001b[0m\u001b[1;33m(\u001b[0m\u001b[1;34m\"pe-machine-learning-dataset/samples\"\u001b[0m\u001b[1;33m)\u001b[0m\u001b[1;33m\u001b[0m\u001b[1;33m\u001b[0m\u001b[0m\n\u001b[0m",
      "\u001b[1;32m~\\CSCE689_Team\\defender\\classifier.py\u001b[0m in \u001b[0;36mcreate_training_feature_vectors\u001b[1;34m(sample_dir)\u001b[0m\n\u001b[0;32m    464\u001b[0m     \u001b[1;31m# Creating byte-based feature matrix\u001b[0m\u001b[1;33m\u001b[0m\u001b[1;33m\u001b[0m\u001b[0m\n\u001b[0;32m    465\u001b[0m     \u001b[0mprint\u001b[0m\u001b[1;33m(\u001b[0m\u001b[1;34m\"Creating byte-based feature matrix\"\u001b[0m\u001b[1;33m)\u001b[0m\u001b[1;33m\u001b[0m\u001b[1;33m\u001b[0m\u001b[0m\n\u001b[1;32m--> 466\u001b[1;33m     \u001b[0mbyte_bi_gram_features\u001b[0m \u001b[1;33m=\u001b[0m \u001b[0mget_training_byte_features\u001b[0m\u001b[1;33m(\u001b[0m\u001b[0mbyte_files\u001b[0m\u001b[1;33m,\u001b[0m \u001b[0mlist\u001b[0m\u001b[1;33m(\u001b[0m\u001b[0mheader_feature_df\u001b[0m\u001b[1;33m[\u001b[0m\u001b[1;34m\"CLASSIFICATION\"\u001b[0m\u001b[1;33m]\u001b[0m\u001b[1;33m)\u001b[0m\u001b[1;33m)\u001b[0m\u001b[1;33m\u001b[0m\u001b[1;33m\u001b[0m\u001b[0m\n\u001b[0m\u001b[0;32m    467\u001b[0m     \u001b[1;31m# Creating opcode-based feature matrix\u001b[0m\u001b[1;33m\u001b[0m\u001b[1;33m\u001b[0m\u001b[0m\n\u001b[0;32m    468\u001b[0m     \u001b[0mprint\u001b[0m\u001b[1;33m(\u001b[0m\u001b[1;34m\"Creating opcode-based feature matrix\"\u001b[0m\u001b[1;33m)\u001b[0m\u001b[1;33m\u001b[0m\u001b[1;33m\u001b[0m\u001b[0m\n",
      "\u001b[1;32m~\\CSCE689_Team\\defender\\classifier.py\u001b[0m in \u001b[0;36mget_training_byte_features\u001b[1;34m(byte_files, classifications)\u001b[0m\n\u001b[0;32m    150\u001b[0m     \u001b[1;31m# Selecting top 200 bi-gram byte features\u001b[0m\u001b[1;33m\u001b[0m\u001b[1;33m\u001b[0m\u001b[0m\n\u001b[0;32m    151\u001b[0m     \u001b[0mprint\u001b[0m\u001b[1;33m(\u001b[0m\u001b[1;34m\"Selecting top 200 bi-gram byte features\"\u001b[0m\u001b[1;33m)\u001b[0m\u001b[1;33m\u001b[0m\u001b[1;33m\u001b[0m\u001b[0m\n\u001b[1;32m--> 152\u001b[1;33m     \u001b[0mselector\u001b[0m\u001b[1;33m.\u001b[0m\u001b[0mfit\u001b[0m\u001b[1;33m(\u001b[0m\u001b[0mbyte_bi_gram_features_list\u001b[0m\u001b[1;33m,\u001b[0m \u001b[0mlist\u001b[0m\u001b[1;33m(\u001b[0m\u001b[0mclassifications\u001b[0m\u001b[1;33m)\u001b[0m\u001b[1;33m)\u001b[0m\u001b[1;33m\u001b[0m\u001b[1;33m\u001b[0m\u001b[0m\n\u001b[0m\u001b[0;32m    153\u001b[0m     \u001b[0mselections\u001b[0m \u001b[1;33m=\u001b[0m \u001b[0mselector\u001b[0m\u001b[1;33m.\u001b[0m\u001b[0mget_support\u001b[0m\u001b[1;33m(\u001b[0m\u001b[1;33m)\u001b[0m\u001b[1;33m\u001b[0m\u001b[1;33m\u001b[0m\u001b[0m\n\u001b[0;32m    154\u001b[0m     \u001b[1;31m# Copy the selected features to another matrix\u001b[0m\u001b[1;33m\u001b[0m\u001b[1;33m\u001b[0m\u001b[0m\n",
      "\u001b[1;32m~\\anaconda3\\lib\\site-packages\\sklearn\\feature_selection\\_from_model.py\u001b[0m in \u001b[0;36mfit\u001b[1;34m(self, X, y, **fit_params)\u001b[0m\n\u001b[0;32m    255\u001b[0m                     )\n\u001b[0;32m    256\u001b[0m                 )\n\u001b[1;32m--> 257\u001b[1;33m             \u001b[1;32melif\u001b[0m \u001b[0mself\u001b[0m\u001b[1;33m.\u001b[0m\u001b[0mmax_features\u001b[0m \u001b[1;33m<\u001b[0m \u001b[1;36m0\u001b[0m \u001b[1;32mor\u001b[0m \u001b[0mself\u001b[0m\u001b[1;33m.\u001b[0m\u001b[0mmax_features\u001b[0m \u001b[1;33m>\u001b[0m \u001b[0mX\u001b[0m\u001b[1;33m.\u001b[0m\u001b[0mshape\u001b[0m\u001b[1;33m[\u001b[0m\u001b[1;36m1\u001b[0m\u001b[1;33m]\u001b[0m\u001b[1;33m:\u001b[0m\u001b[1;33m\u001b[0m\u001b[1;33m\u001b[0m\u001b[0m\n\u001b[0m\u001b[0;32m    258\u001b[0m                 raise ValueError(\n\u001b[0;32m    259\u001b[0m                     \"'max_features' should be 0 and {} features.Got {} instead.\".format(\n",
      "\u001b[1;31mAttributeError\u001b[0m: 'list' object has no attribute 'shape'"
     ]
    }
   ],
   "source": [
    "final_feature_df, byte_bi_gram_features.columns, opcode_bi_gram_features.columns, opcode_tri_gram_features.columns = create_training_feature_vectors(\"pe-machine-learning-dataset/samples\")"
   ]
  },
  {
   "cell_type": "code",
   "execution_count": 6,
   "id": "6df205d6",
   "metadata": {},
   "outputs": [
    {
     "ename": "NameError",
     "evalue": "name 'feature_dir' is not defined",
     "output_type": "error",
     "traceback": [
      "\u001b[1;31m---------------------------------------------------------------------------\u001b[0m",
      "\u001b[1;31mNameError\u001b[0m                                 Traceback (most recent call last)",
      "\u001b[1;32m~\\AppData\\Local\\Temp\\ipykernel_25760\\1697081513.py\u001b[0m in \u001b[0;36m<module>\u001b[1;34m\u001b[0m\n\u001b[1;32m----> 1\u001b[1;33m \u001b[0mfeature_dir\u001b[0m\u001b[1;33m\u001b[0m\u001b[1;33m\u001b[0m\u001b[0m\n\u001b[0m",
      "\u001b[1;31mNameError\u001b[0m: name 'feature_dir' is not defined"
     ]
    }
   ],
   "source": [
    "feature_dir"
   ]
  },
  {
   "cell_type": "code",
   "execution_count": null,
   "id": "d86d14a4",
   "metadata": {},
   "outputs": [],
   "source": []
  }
 ],
 "metadata": {
  "kernelspec": {
   "display_name": "Python 3 (ipykernel)",
   "language": "python",
   "name": "python3"
  },
  "language_info": {
   "codemirror_mode": {
    "name": "ipython",
    "version": 3
   },
   "file_extension": ".py",
   "mimetype": "text/x-python",
   "name": "python",
   "nbconvert_exporter": "python",
   "pygments_lexer": "ipython3",
   "version": "3.9.13"
  }
 },
 "nbformat": 4,
 "nbformat_minor": 5
}
